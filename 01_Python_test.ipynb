{
 "cells": [
  {
   "cell_type": "markdown",
   "metadata": {},
   "source": [
    "# AI Engineering Python Exam\n",
    "\n",
    "\n",
    "Dear Applicant, \n",
    "\n",
    "As a next step, we would like to invite you to answer some technical questions before the interview in order to make sure the technical requirements for the course are meet. Having candidates which meet this criteria is essential in order to deliver on the promice of you all getting a good job position after this one finishes.\n",
    "\n",
    "In this assignment you will complete a Jupyter notebook (`01_Python_test_NAME_SURNAME.ipynb` file) with a number of function definitions. Do **not** submit a python file or any other format. Independently of your working environment, copy the final code and results in the notebook. \n",
    "\n",
    "## Instructions \n",
    "\n",
    "The duration of the assignment is **1h approx**.\n",
    "\n",
    "For the submission, please fill the following typeform link provided in the instructions email (you can upload your  submission there. \n",
    "\n",
    "### A comment on Honesty and Copying\n",
    "\n",
    "This is an individual assignment. You **are** allowed to look up specific coding syntax questions and answers on Stack Overflow and similar websites and adapt them, but you **are not allowed to copy and paste entire solutions** into your submission. As a rule of thumb, do not copy and paste from the internet anything larger than one line of code into your submission.\n",
    "\n",
    "We receive hundreds of admission tests and **run automated testing to identify similar code**. If you cheat, not only will you get caught, but you are not the type of person that would finish the course in the first place. We are looking for people that can learn and improve on a daily basis. \n",
    "\n",
    "\n",
    "# Tasks\n",
    "\n",
    "## Task 0 (example)\n",
    "\n",
    "Define the function ``average`` which takes an array of numbers and returns\n",
    "the arithmetic mean of them. The function should work like this:"
   ]
  },
  {
   "cell_type": "code",
   "execution_count": 1,
   "metadata": {},
   "outputs": [
    {
     "name": "stdout",
     "output_type": "stream",
     "text": [
      "2.0\n",
      "1.0\n"
     ]
    }
   ],
   "source": [
    "import numpy\n",
    "from assignment import average\n",
    "a = numpy.array([1.0, 2.0, 3.0])\n",
    "b = numpy.ones((2,3))\n",
    "print(average(a))\n",
    "print(average(b))"
   ]
  },
  {
   "cell_type": "markdown",
   "metadata": {},
   "source": [
    "### Solution:\n",
    "\n",
    "```python\n",
    "   def average(x):\n",
    "      return x.mean()\n",
    "```      "
   ]
  },
  {
   "cell_type": "markdown",
   "metadata": {},
   "source": [
    "## Task 1\n",
    "\n",
    "Write a function ``cashier`` that classifies a given amount of money, specified in cents, as greater monetary units. Your code lists the monetary equivalent in dollars (100 ct), quarters (25 ct), dimes (10 ct), nickels (5 ct), and pennies (1 ct). Your program should report the maximum number of dollars that fit in the amount, then the maximum number of quarters that fit in the remainder after you subtract the dollars, then the maximum number of dimes that fit in the remainder, and store all this information into a dictionary.\n",
    "\n",
    "Please complete the definition of the function. Here is what you can assume about this function:\n",
    "* The input parameter `amount` is a non-negative int value. \n",
    "* The function `cashier` must return a dictionary with the following structure:<br>\n",
    "  {\n",
    "      'dollars': dollars_count,\n",
    "      'quarters': quarters_count,\n",
    "      'dimes': dimes_count,\n",
    "      'nickels': nickels_count,\n",
    "      'pennies': pennies_count\n",
    "  }\n",
    "\n",
    "### Expected results:"
   ]
  },
  {
   "cell_type": "code",
   "execution_count": 2,
   "metadata": {},
   "outputs": [
    {
     "data": {
      "text/plain": [
       "{'dollars': 11, 'quarters': 2, 'dimes': 0, 'nickels': 0, 'pennies': 2}"
      ]
     },
     "execution_count": 2,
     "metadata": {},
     "output_type": "execute_result"
    }
   ],
   "source": [
    "from assignment import cashier\n",
    "cashier(1156)"
   ]
  },
  {
   "cell_type": "markdown",
   "metadata": {},
   "source": [
    "### Your turn 👩‍💻🚀👨‍💻"
   ]
  },
  {
   "cell_type": "code",
   "execution_count": null,
   "metadata": {},
   "outputs": [],
   "source": [
    "# Write your code in this cell:\n",
    "def cashier():"
   ]
  },
  {
   "cell_type": "markdown",
   "metadata": {},
   "source": [
    "## Task 2\n",
    "\n",
    "Grades are values between zero and 10 (both zero and 10 included), and are always rounded to the nearest half point. To translate grades to the American style, 8.5 to 10 become an \"A\", 7.5 and 8 become a \"B\", 6.5 and 7 become a \"C\", 5.5 and 6 become a \"D\", and other grades become an \"F\".\n",
    "\n",
    "Write a function `convert_grades` that implements this translation and returns the American translation of the value in the parameter grade. If grade is lower than zero or higher than 10, the function throws an error with the message \"Grades must be values between 0 and 10.\". In the case of input grades that do not end in .0 or .5, you first need to round the grade to the nearest half point.\n",
    "\n",
    "Please complete the definition of the function. Here is what you can assume about this function:\n",
    "* The input parameter `grade` is a float value between 0 and 10 (both included). \n",
    "* The function `convert_grades` must return a char with the correct grade, in case of a valid input, or it must raise an exception in case of not valid input.\n",
    "\n",
    "### Expected results:"
   ]
  },
  {
   "cell_type": "code",
   "execution_count": 3,
   "metadata": {},
   "outputs": [
    {
     "data": {
      "text/plain": [
       "'A'"
      ]
     },
     "execution_count": 3,
     "metadata": {},
     "output_type": "execute_result"
    }
   ],
   "source": [
    "from assignment import convert_grades\n",
    "convert_grades(9.0)"
   ]
  },
  {
   "cell_type": "code",
   "execution_count": 4,
   "metadata": {},
   "outputs": [
    {
     "data": {
      "text/plain": [
       "'B'"
      ]
     },
     "execution_count": 4,
     "metadata": {},
     "output_type": "execute_result"
    }
   ],
   "source": [
    "convert_grades(7.7)"
   ]
  },
  {
   "cell_type": "code",
   "execution_count": 5,
   "metadata": {},
   "outputs": [
    {
     "ename": "Exception",
     "evalue": "Grades must be values between 0 and 10.",
     "output_type": "error",
     "traceback": [
      "\u001b[0;31m---------------------------------------------------------------------------\u001b[0m",
      "\u001b[0;31mException\u001b[0m                                 Traceback (most recent call last)",
      "\u001b[0;32m<ipython-input-15-d57efcc5ce06>\u001b[0m in \u001b[0;36m<module>\u001b[0;34m\u001b[0m\n\u001b[0;32m----> 1\u001b[0;31m \u001b[0mconvert_grades\u001b[0m\u001b[0;34m(\u001b[0m\u001b[0;36m11.5\u001b[0m\u001b[0;34m)\u001b[0m\u001b[0;34m\u001b[0m\u001b[0;34m\u001b[0m\u001b[0m\n\u001b[0m",
      "\u001b[0;32m<ipython-input-14-eb84997bff8d>\u001b[0m in \u001b[0;36mconvert_grades\u001b[0;34m(n)\u001b[0m\n\u001b[1;32m      1\u001b[0m \u001b[0;32mdef\u001b[0m \u001b[0mconvert_grades\u001b[0m\u001b[0;34m(\u001b[0m\u001b[0mn\u001b[0m\u001b[0;34m)\u001b[0m\u001b[0;34m:\u001b[0m\u001b[0;34m\u001b[0m\u001b[0;34m\u001b[0m\u001b[0m\n\u001b[0;32m----> 2\u001b[0;31m     \u001b[0;32mraise\u001b[0m \u001b[0mException\u001b[0m\u001b[0;34m(\u001b[0m\u001b[0;34m'Grades must be values between 0 and 10.'\u001b[0m\u001b[0;34m)\u001b[0m\u001b[0;34m\u001b[0m\u001b[0;34m\u001b[0m\u001b[0m\n\u001b[0m",
      "\u001b[0;31mException\u001b[0m: Grades must be values between 0 and 10."
     ]
    }
   ],
   "source": [
    "convert_grades(11.5)"
   ]
  },
  {
   "cell_type": "markdown",
   "metadata": {},
   "source": [
    "### Your turn 👩‍💻🚀👨‍💻"
   ]
  },
  {
   "cell_type": "code",
   "execution_count": null,
   "metadata": {},
   "outputs": [],
   "source": [
    "# Write your code in this cell:\n",
    "def convert_grades():"
   ]
  },
  {
   "cell_type": "markdown",
   "metadata": {},
   "source": [
    "## Task 3\n",
    "\n",
    "Define a function `count_vowels` that receives a string parameter, and returns an integer indicating how many different vowels there are in the string. The capital version of a lower case vowel is considered to be the same vowel. y is not considered a vowel. For example, for the string \"Michael Palin\", the function should return 3.\n",
    "\n",
    "Please complete the definition of the function. Here is what you can assume about this function:\n",
    "* The input parameter `text` is a string text. \n",
    "* The function `count_vowels` must return an dictionary with each different vowel and its counts in the input text.\n",
    "\n",
    "### Expected results:"
   ]
  },
  {
   "cell_type": "code",
   "execution_count": 3,
   "metadata": {},
   "outputs": [
    {
     "name": "stdout",
     "output_type": "stream",
     "text": [
      "{'a': 2, 'e': 1, 'i': 2, 'o': 0, 'u': 0}\n"
     ]
    }
   ],
   "source": [
    "from assignment import count_vowels\n",
    "count_vowels(\"Michael Palin\")"
   ]
  },
  {
   "cell_type": "markdown",
   "metadata": {},
   "source": [
    "### Your turn 👩‍💻🚀👨‍💻"
   ]
  },
  {
   "cell_type": "code",
   "execution_count": null,
   "metadata": {},
   "outputs": [],
   "source": [
    "# Write your code in this cell:"
   ]
  },
  {
   "cell_type": "markdown",
   "metadata": {},
   "source": [
    "## Task 4\n",
    "A prime number is a positive integer that is dividable by exactly two different numbers, namely 1 and itself. The lowest (and only even) prime number is 2. The first 10 prime numbers are 2, 3, 5, 7, 11, 13, 17, 19, 23, and 29. Write a function that returns True if its parameter is a prime number, and False otherwise. Hint: In a loop where you test the possible dividers of the number, you can conclude that the number is not prime as soon as you encounter a number other than 1 or the number itself that divides it. However, you can only conclude that it actually is prime after you have tested all possible dividers.\n",
    "\n",
    "Please complete the definition of the function. Here is what you can assume about this function:\n",
    "* The input parameter `number` is a positive int. \n",
    "* The function `is_prime` must return the boolean value `True` if the parameter is a prime number, and the boolean value `False` otherwise.\n",
    "\n",
    "### Expected results:"
   ]
  },
  {
   "cell_type": "code",
   "execution_count": 7,
   "metadata": {},
   "outputs": [
    {
     "data": {
      "text/plain": [
       "True"
      ]
     },
     "execution_count": 7,
     "metadata": {},
     "output_type": "execute_result"
    }
   ],
   "source": [
    "from assignment import is_prime\n",
    "is_prime(29)"
   ]
  },
  {
   "cell_type": "code",
   "execution_count": 8,
   "metadata": {},
   "outputs": [
    {
     "data": {
      "text/plain": [
       "False"
      ]
     },
     "execution_count": 8,
     "metadata": {},
     "output_type": "execute_result"
    }
   ],
   "source": [
    "is_prime(15)"
   ]
  },
  {
   "cell_type": "markdown",
   "metadata": {},
   "source": [
    "### Your turn 👩‍💻🚀👨‍💻"
   ]
  },
  {
   "cell_type": "code",
   "execution_count": null,
   "metadata": {},
   "outputs": [],
   "source": [
    "# Write your code in this cell:"
   ]
  },
  {
   "cell_type": "markdown",
   "metadata": {},
   "source": [
    "### Task 5 \n",
    "\n",
    "Write a program that takes a text as input, splits it into words (where everything that is not a letter is considered a word boundary), and case-insensitively builds a dictionary that stores for every word how often it occurs in the text. Then return the dictionary containing all the words with their quantities sorted in alphabetical order.\n",
    "\n",
    "Please complete the definition of the function. Here is what you can assume about this function:<br>\n",
    "* The input parameter `text` is a string text.\n",
    "* The function `count_words` as a dictionary of all the words with their quantities. \n",
    "* BONUS: The function `count_words` a list of tuples containing the dictionary pairs (keys and values) of all the words with their quantities sorted in alphabetical order. Note that sorting it will prove to be an additional challenge. \n",
    "\n",
    "### Expected results:"
   ]
  },
  {
   "cell_type": "code",
   "execution_count": null,
   "metadata": {},
   "outputs": [],
   "source": []
  },
  {
   "cell_type": "code",
   "execution_count": 1,
   "metadata": {},
   "outputs": [
    {
     "ename": "NameError",
     "evalue": "name 'count_words' is not defined",
     "output_type": "error",
     "traceback": [
      "\u001b[0;31m---------------------------------------------------------------------------\u001b[0m",
      "\u001b[0;31mNameError\u001b[0m                                 Traceback (most recent call last)",
      "\u001b[0;32m<ipython-input-1-d13d37ea3d97>\u001b[0m in \u001b[0;36m<module>\u001b[0;34m\u001b[0m\n\u001b[1;32m      8\u001b[0m \u001b[0;31m### Alternative option\u001b[0m\u001b[0;34m\u001b[0m\u001b[0;34m\u001b[0m\u001b[0;34m\u001b[0m\u001b[0m\n\u001b[1;32m      9\u001b[0m \u001b[0;34m\u001b[0m\u001b[0m\n\u001b[0;32m---> 10\u001b[0;31m \u001b[0mcount_words\u001b[0m\u001b[0;34m(\u001b[0m\u001b[0mtext\u001b[0m\u001b[0;34m)\u001b[0m\u001b[0;34m\u001b[0m\u001b[0;34m\u001b[0m\u001b[0m\n\u001b[0m",
      "\u001b[0;31mNameError\u001b[0m: name 'count_words' is not defined"
     ]
    }
   ],
   "source": [
    "#from assignment import count_words\n",
    "text = \"\"\"How much wood would a woodchuck chuck\n",
    "If a woodchuck could chuck wood?\n",
    "He would chuck, he would, as much as he could,\n",
    "And chuck as much as a woodchuck would\n",
    "If a woodchuck could chuck wood.\"\"\"\n",
    "\n",
    "### Alternative option\n",
    "text_2 = \"\"\"How much code could a coder from coding company code\n",
    "If a code could code Python?\n",
    "He/she would code, he/she would, as much as he/she could,\n",
    "And code as much as a coder would\n",
    "If a coder could code Python.\"\"\"\n",
    "\n",
    "count_words(text)"
   ]
  },
  {
   "cell_type": "markdown",
   "metadata": {},
   "source": [
    "Output: \n",
    "    ```python\n",
    "from assignment import count_words\n",
    "count_words(text)\n",
    "{'chuck': 5,\n",
    " 'would': 4,\n",
    " 'a': 4,\n",
    " 'woodchuck': 4,\n",
    " 'as': 4,\n",
    " 'much': 3,\n",
    " 'wood': 3,\n",
    " 'could': 3,\n",
    " 'he': 3,\n",
    " 'if': 2,\n",
    " 'how': 1,\n",
    " 'and': 1}\n",
    " \n",
    "\n",
    "```\n",
    "\n",
    "    "
   ]
  },
  {
   "cell_type": "markdown",
   "metadata": {},
   "source": [
    "### Your turn 👩‍💻🚀👨‍💻"
   ]
  },
  {
   "cell_type": "code",
   "execution_count": 2,
   "metadata": {},
   "outputs": [],
   "source": [
    "# Write your code in this cell:"
   ]
  },
  {
   "cell_type": "code",
   "execution_count": null,
   "metadata": {},
   "outputs": [],
   "source": [
    "def count_words():"
   ]
  }
 ],
 "metadata": {
  "kernelspec": {
   "display_name": "Python 3",
   "language": "python",
   "name": "python3"
  },
  "language_info": {
   "codemirror_mode": {
    "name": "ipython",
    "version": 3
   },
   "file_extension": ".py",
   "mimetype": "text/x-python",
   "name": "python",
   "nbconvert_exporter": "python",
   "pygments_lexer": "ipython3",
   "version": "3.7.4"
  }
 },
 "nbformat": 4,
 "nbformat_minor": 1
}
